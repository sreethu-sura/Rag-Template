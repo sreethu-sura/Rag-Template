{
 "cells": [
  {
   "cell_type": "code",
   "execution_count": 2,
   "metadata": {},
   "outputs": [
    {
     "data": {
      "text/plain": [
       "True"
      ]
     },
     "execution_count": 2,
     "metadata": {},
     "output_type": "execute_result"
    }
   ],
   "source": [
    "from dotenv import load_dotenv\n",
    "import os\n",
    "load_dotenv()\n"
   ]
  },
  {
   "cell_type": "code",
   "execution_count": 6,
   "metadata": {},
   "outputs": [],
   "source": [
    "from langchain_community.document_loaders import WebBaseLoader\n",
    "from langchain_community.vectorstores import Chroma\n",
    "from langchain_openai import AzureOpenAIEmbeddings\n",
    "from langchain_text_splitters import RecursiveCharacterTextSplitter\n",
    "from langchain.tools.retriever import create_retriever_tool\n",
    "\n",
    "urls = [\n",
    "  \"https://en.wikipedia.org/wiki/Viscosity\"\n",
    "]\n",
    "\n",
    "def retrive_url(urls):\n",
    "    docs = [WebBaseLoader(url).load() for url in urls]\n",
    "    docs_list = [item for sublist in docs for item in sublist]\n",
    "\n",
    "    text_splitter = RecursiveCharacterTextSplitter.from_tiktoken_encoder(\n",
    "        chunk_size=100, chunk_overlap=50\n",
    "    )\n",
    "    doc_splits = text_splitter.split_documents(docs_list)\n",
    "\n",
    "    embeddings_model = AzureOpenAIEmbeddings(\n",
    "        model = \"text-embedding-3-large\",\n",
    "        openai_api_version=os.environ.get(\"AZURE_OPENAI_API_VERSION\"),\n",
    "        azure_endpoint=os.environ.get(\"AZURE_OPENAI_ENDPOINT\"),\n",
    "        api_key=os.environ.get(\"AZURE_OPENAI_KEY\")\n",
    "    )\n",
    "\n",
    "    # Add to vectorDB\n",
    "    vectorstore = Chroma.from_documents(\n",
    "        documents=doc_splits,\n",
    "        collection_name=\"rag-chroma\",\n",
    "        embedding=embeddings_model,\n",
    "    )\n",
    "    retriever = vectorstore.as_retriever()\n",
    "\n",
    "\n",
    "\n",
    "    retriever_tool = create_retriever_tool(\n",
    "        retriever,\n",
    "        \"retrieve_blog_posts\",\n",
    "        \"Search and return information about viscosity\"\n",
    "    )\n",
    "\n",
    "    return retriever_tool\n",
    "\n",
    "retrieval_tool = retrive_url(urls)\n",
    "tools = [retrieval_tool]"
   ]
  },
  {
   "cell_type": "code",
   "execution_count": 4,
   "metadata": {},
   "outputs": [],
   "source": [
    "from langgraph.graph import StateGraph, END\n",
    "from typing import TypedDict, Annotated\n",
    "import operator\n",
    "from langchain_core.messages import AnyMessage, SystemMessage, HumanMessage, ToolMessage\n",
    "from langchain_openai import ChatOpenAI\n",
    "\n",
    "class AgentState(TypedDict):\n",
    "    messages: Annotated[list[AnyMessage], operator.add]"
   ]
  },
  {
   "cell_type": "code",
   "execution_count": 5,
   "metadata": {},
   "outputs": [
    {
     "name": "stderr",
     "output_type": "stream",
     "text": [
      "/Users/suras/Documents/ADSK/RAG_Template/.venv/lib/python3.9/site-packages/IPython/core/interactiveshell.py:3550: LangChainDeprecationWarning: As of langchain-core 0.3.0, LangChain uses pydantic v2 internally. The langchain_core.pydantic_v1 module was a compatibility shim for pydantic v1, and should no longer be used. Please update the code to import from Pydantic directly.\n",
      "\n",
      "For example, replace imports like: `from langchain_core.pydantic_v1 import BaseModel`\n",
      "with: `from pydantic import BaseModel`\n",
      "or the v1 compatibility namespace if you are working in a code base that has not been fully upgraded to pydantic 2 yet. \tfrom pydantic.v1 import BaseModel\n",
      "\n",
      "  exec(code_obj, self.user_global_ns, self.user_ns)\n"
     ]
    }
   ],
   "source": [
    "\n",
    "from langgraph.graph import END, StateGraph, START\n",
    "from langgraph.prebuilt import ToolNode\n",
    "from typing import Annotated, Literal, Sequence, TypedDict\n",
    "from langchain import hub\n",
    "from langchain_core.messages import BaseMessage, HumanMessage\n",
    "from langchain_core.output_parsers import StrOutputParser\n",
    "from langchain_core.prompts import PromptTemplate\n",
    "from langchain_core.pydantic_v1 import BaseModel, Field\n",
    "from langchain_openai import ChatOpenAI\n",
    "from langgraph.prebuilt import tools_condition\n",
    "from langgraph.checkpoint.sqlite import SqliteSaver\n",
    "\n",
    "\n",
    "class Agent:\n",
    "    def __init__(self, model, tools, checkpointer, system=\"\"):\n",
    "        self.system = system\n",
    "        # Define a new graph\n",
    "        graph = StateGraph(AgentState)\n",
    "\n",
    "        # Define the nodes we will cycle between\n",
    "        graph.add_node(\"agent\", self.agent)  # agent\n",
    "        retrieve = ToolNode(tools)\n",
    "        graph.add_node(\"retrieve\", retrieve)  # retrieval\n",
    "        graph.add_node(\"rewrite\", self.rewrite)  # Re-writing the question\n",
    "        graph.add_node(\n",
    "            \"generate\", self.generate\n",
    "        )  # Generating a response after we know the documents are relevant\n",
    "        # Call agent node to decide to retrieve or not\n",
    "        graph.add_edge(START, \"agent\")\n",
    "\n",
    "        # Decide whether to retrieve\n",
    "        graph.add_conditional_edges(\n",
    "            \"agent\",\n",
    "            # Assess agent decision\n",
    "            tools_condition,\n",
    "            {\n",
    "                \"tools\": \"retrieve\",\n",
    "                END: END,\n",
    "            },\n",
    "        )\n",
    "\n",
    "        # Edges taken after the `action` node is called.\n",
    "        graph.add_conditional_edges(\n",
    "            \"retrieve\",\n",
    "            # Assess agent decision\n",
    "            self.grade_documents,\n",
    "        )\n",
    "        graph.add_edge(\"generate\", END)\n",
    "        graph.add_edge(\"rewrite\", \"agent\")\n",
    "\n",
    "\n",
    "        self.graph = graph.compile(checkpointer=checkpointer)\n",
    "\n",
    "\n",
    "        self.tools = {t.name: t for t in tools}\n",
    "        self.model = model.bind_tools(tools)\n",
    "    \n",
    "\n",
    "    def grade_documents(self,state) -> Literal[\"generate\", \"rewrite\"]:\n",
    "        \"\"\"\n",
    "        Determines whether the retrieved documents are relevant to the question.\n",
    "\n",
    "        Args:\n",
    "            state (messages): The current state\n",
    "\n",
    "        Returns:\n",
    "            str: A decision for whether the documents are relevant or not\n",
    "        \"\"\"\n",
    "\n",
    "        print(\"---CHECK RELEVANCE---\")\n",
    "\n",
    "        # Data model\n",
    "        class grade(BaseModel):\n",
    "            \"\"\"Binary score for relevance check.\"\"\"\n",
    "\n",
    "            binary_score: str = Field(description=\"Relevance score 'yes' or 'no'\")\n",
    "\n",
    "        # LLM\n",
    "        model = ChatOpenAI(temperature=0, model=\"gpt-4-0125-preview\", streaming=True)\n",
    "\n",
    "        # LLM with tool and validation\n",
    "        llm_with_tool = model.with_structured_output(grade)\n",
    "\n",
    "        # Prompt\n",
    "        prompt = PromptTemplate(\n",
    "            template=\"\"\"You are a grader assessing relevance of a retrieved document to a user question. \\n \n",
    "            Here is the retrieved document: \\n\\n {context} \\n\\n\n",
    "            Here is the user question: {question} \\n\n",
    "            If the document contains keyword(s) or semantic meaning related to the user question, grade it as relevant. \\n\n",
    "            Give a binary score 'yes' or 'no' score to indicate whether the document is relevant to the question.\"\"\",\n",
    "            input_variables=[\"context\", \"question\"],\n",
    "        )\n",
    "\n",
    "        # Chain\n",
    "        chain = prompt | llm_with_tool\n",
    "\n",
    "        messages = state[\"messages\"]\n",
    "        last_message = messages[-1]\n",
    "\n",
    "        question = messages[0].content\n",
    "        docs = last_message.content\n",
    "\n",
    "        scored_result = chain.invoke({\"question\": question, \"context\": docs})\n",
    "\n",
    "        score = scored_result.binary_score\n",
    "\n",
    "        if score == \"yes\":\n",
    "            print(\"---DECISION: DOCS RELEVANT---\")\n",
    "            return \"generate\"\n",
    "\n",
    "        else:\n",
    "            print(\"---DECISION: DOCS NOT RELEVANT---\")\n",
    "            print(score)\n",
    "            return \"rewrite\"\n",
    "\n",
    "\n",
    "    ### Nodes\n",
    "\n",
    "\n",
    "    def agent(self,state):\n",
    "\n",
    "        print(\"---CALL AGENT---\")\n",
    "        messages = state[\"messages\"]\n",
    "        model = ChatOpenAI(temperature=0, streaming=True, model=\"gpt-4-turbo\")\n",
    "        model = model.bind_tools(tools)\n",
    "        response = model.invoke(messages)\n",
    "        # We return a list, because this will get added to the existing list\n",
    "        return {\"messages\": [response]}\n",
    "\n",
    "\n",
    "    def rewrite(self,state):\n",
    "\n",
    "        print(\"---TRANSFORM QUERY---\")\n",
    "        messages = state[\"messages\"]\n",
    "        question = messages[0].content\n",
    "\n",
    "        msg = [\n",
    "            HumanMessage(\n",
    "                content=f\"\"\" \\n \n",
    "        Look at the input and try to reason about the underlying semantic intent / meaning. \\n \n",
    "        Here is the initial question:\n",
    "        \\n ------- \\n\n",
    "        {question} \n",
    "        \\n ------- \\n\n",
    "        Formulate an improved question: \"\"\",\n",
    "            )\n",
    "        ]\n",
    "\n",
    "        # Grader\n",
    "        model = ChatOpenAI(temperature=0, model=\"gpt-4-0125-preview\", streaming=True)\n",
    "        response = model.invoke(msg)\n",
    "        return {\"messages\": [response]}\n",
    "\n",
    "\n",
    "    def generate(self,state):\n",
    "\n",
    "        print(\"---GENERATE---\")\n",
    "        messages = state[\"messages\"]\n",
    "        question = messages[0].content\n",
    "        last_message = messages[-1]\n",
    "\n",
    "        docs = last_message.content\n",
    "\n",
    "        # Prompt\n",
    "        prompt = hub.pull(\"rlm/rag-prompt\")\n",
    "\n",
    "        # LLM\n",
    "        llm = ChatOpenAI(model_name=\"gpt-3.5-turbo\", temperature=0, streaming=True)\n",
    "\n",
    "        # Post-processing\n",
    "        def format_docs(docs):\n",
    "            return \"\\n\\n\".join(doc.page_content for doc in docs)\n",
    "\n",
    "        # Chain\n",
    "        rag_chain = prompt | llm | StrOutputParser()\n",
    "\n",
    "        # Run\n",
    "        response = rag_chain.invoke({\"context\": docs, \"question\": question})\n",
    "        return {\"messages\": [response]}\n",
    "    \n",
    "    def display_graph(self):\n",
    "        from IPython.display import Image, display\n",
    "\n",
    "        try:\n",
    "            display(Image(self.graph.get_graph(xray=True).draw_mermaid_png()))\n",
    "        except Exception:\n",
    "            # This requires some extra dependencies and is optional\n",
    "            pass\n"
   ]
  },
  {
   "cell_type": "code",
   "execution_count": 6,
   "metadata": {},
   "outputs": [
    {
     "name": "stdout",
     "output_type": "stream",
     "text": [
      "---CALL AGENT---\n",
      "[AIMessage(content='', additional_kwargs={'tool_calls': [{'index': 0, 'id': 'call_3IrNRZtHaRgR5bqI8UkEiV0b', 'function': {'arguments': '{\"query\":\"viscosity\"}', 'name': 'retrieve_blog_posts'}, 'type': 'function'}]}, response_metadata={'finish_reason': 'tool_calls', 'model_name': 'gpt-4-turbo-2024-04-09', 'system_fingerprint': 'fp_f17929ee92'}, id='run-a86eb973-c538-4ec0-898b-cd59c43522a4-0', tool_calls=[{'name': 'retrieve_blog_posts', 'args': {'query': 'viscosity'}, 'id': 'call_3IrNRZtHaRgR5bqI8UkEiV0b', 'type': 'tool_call'}])]\n",
      "---CHECK RELEVANCE---\n"
     ]
    },
    {
     "name": "stderr",
     "output_type": "stream",
     "text": [
      "/Users/suras/Documents/ADSK/RAG_Template/.venv/lib/python3.9/site-packages/langchain_openai/chat_models/base.py:1362: UserWarning: Received a Pydantic BaseModel V1 schema. This is not supported by method=\"json_schema\". Please use method=\"function_calling\" or specify schema via JSON Schema or Pydantic V2 BaseModel. Overriding to method=\"function_calling\".\n",
      "  warnings.warn(\n",
      "/Users/suras/Documents/ADSK/RAG_Template/.venv/lib/python3.9/site-packages/langchain_openai/chat_models/base.py:1375: UserWarning: Cannot use method='json_schema' with model gpt-4-0125-preview since it doesn't support OpenAI's Structured Output API. You can see supported models here: https://platform.openai.com/docs/guides/structured-outputs#supported-models. To fix this warning, set `method='function_calling'. Overriding to method='function_calling'.\n",
      "  warnings.warn(\n"
     ]
    },
    {
     "name": "stdout",
     "output_type": "stream",
     "text": [
      "---DECISION: DOCS RELEVANT---\n",
      "[ToolMessage(content='Viscosity is a measure of a fluid\\'s rate-dependent resistance to a change in shape or to movement of its neighboring portions relative to one another.[1] For liquids, it corresponds to the informal concept of thickness; for example, syrup has a higher viscosity than water.[2] Viscosity is defined scientifically as a force multiplied by a time divided by an area. Thus its SI units are newton-seconds per square meter, or pascal-seconds.[1]\\n\\nViscosity is the material property which relates the viscous stresses in a material to the rate of change of a deformation (the strain rate). Although it applies to general flows, it is easy to visualize and define in a simple shearing flow, such as a planar Couette flow.\\nIn the Couette flow, a fluid is trapped between two infinitely large plates, one fixed and one in parallel motion at constant speed\\n\\nviscosity\", which characterizes the transport and dissipation of energy in the smaller-scale flow (see large eddy simulation).[71][72] In contrast to the viscosity of the fluid itself, which must be positive by the second law of thermodynamics, the eddy viscosity can be negative.[73][74]\\n\\nViscosity may also depend on the fluid\\'s physical state (temperature and pressure) and other, external, factors. For gases and other compressible fluids, it depends on temperature and varies very slowly with pressure. The viscosity of some fluids may depend on other factors. A magnetorheological fluid, for example, becomes thicker when subjected to a magnetic field, possibly to the point of behaving like a solid.', name='retrieve_blog_posts', tool_call_id='call_3IrNRZtHaRgR5bqI8UkEiV0b')]\n",
      "---GENERATE---\n",
      "[\"Viscosity is a measure of a fluid's resistance to change in shape or movement of its portions relative to each other. It is defined as a force multiplied by time divided by area, with SI units of newton-seconds per square meter. Viscosity can vary based on factors such as temperature, pressure, and external influences.\"]\n"
     ]
    }
   ],
   "source": [
    "from langgraph.checkpoint.memory import MemorySaver\n",
    "\n",
    "model = ChatOpenAI(model=\"gpt-4o\")\n",
    "prompt = \"\"\n",
    "memory = MemorySaver()\n",
    "\n",
    "abot = Agent(model=model, tools=tools, checkpointer=memory, system=\"\")\n",
    "\n",
    "messages = [HumanMessage(content=\"Summarize viscocity\")]  \n",
    "thread = {\"configurable\": {\"thread_id\": \"1\"}}\n",
    "  \n",
    "for event in abot.graph.stream({\"messages\": messages}, thread):\n",
    "  for v in event.values():\n",
    "    print(v['messages'])"
   ]
  },
  {
   "cell_type": "code",
   "execution_count": 13,
   "metadata": {},
   "outputs": [
    {
     "data": {
      "image/png": "[encoded data removed]",
      "text/plain": [
       "<IPython.core.display.Image object>"
      ]
     },
     "metadata": {},
     "output_type": "display_data"
    }
   ],
   "source": [
    "abot.display_graph()"
   ]
  },
  {
   "cell_type": "code",
   "execution_count": 7,
   "metadata": {},
   "outputs": [
    {
     "name": "stdout",
     "output_type": "stream",
     "text": [
      "---CALL AGENT---\n",
      "[AIMessage(content=\"Let's consider a simple example to understand viscosity using honey and water:\\n\\nImagine you have two identical glasses, one filled with honey and the other with water. If you take a spoon and stir each glass, you will notice a significant difference in the effort required to stir. Stirring the water feels much easier compared to stirring the honey. This difference is due to the viscosity of the fluids.\\n\\nWater has a low viscosity, meaning it offers less resistance to objects moving through it. It flows easily and quickly when stirred. Honey, on the other hand, has a high viscosity. It is thicker and resists motion more than water, requiring more force to stir.\\n\\nThis example illustrates how viscosity affects the movement of objects through fluids and the fluid's resistance to changes in shape or motion.\", additional_kwargs={}, response_metadata={'finish_reason': 'stop', 'model_name': 'gpt-4-turbo-2024-04-09', 'system_fingerprint': 'fp_f17929ee92'}, id='run-bd0a7570-461e-41e0-a309-e0572f53bbcb-0')]\n"
     ]
    }
   ],
   "source": [
    "messages = [HumanMessage(content=\"Explain it by demonstrating a simple example\")]  \n",
    "thread = {\"configurable\": {\"thread_id\": \"1\"}}\n",
    "  \n",
    "for event in abot.graph.stream({\"messages\": messages}, thread):\n",
    "  for v in event.values():\n",
    "    print(v['messages'])"
   ]
  },
  {
   "cell_type": "code",
   "execution_count": 8,
   "metadata": {},
   "outputs": [
    {
     "name": "stdout",
     "output_type": "stream",
     "text": [
      "---CALL AGENT---\n",
      "[AIMessage(content='The slipping of bodywash from your hand can be attributed to differences in viscosity between the two products. The bodywash that slips off your hand immediately likely has a lower viscosity, making it more fluid and less resistant to motion. This allows it to flow more freely and slip off your hand quickly when you move it.\\n\\nOn the other hand, the bodywash that does not slip off immediately probably has a higher viscosity. It is thicker and adheres better to your skin, resisting motion and not slipping off as easily when you move your hand. This difference in behavior is directly related to the viscosity of each bodywash formulation, which can vary based on the ingredients and their concentrations used in the products.', additional_kwargs={}, response_metadata={'finish_reason': 'stop', 'model_name': 'gpt-4-turbo-2024-04-09', 'system_fingerprint': 'fp_c936bae6c5'}, id='run-36a29337-dbc0-4972-828d-5c98d2e67c4b-0')]\n"
     ]
    }
   ],
   "source": [
    "messages = [HumanMessage(content=\"So when i have bodywash on my hand and when i move my hand why did it slip immediately? my other bodywash doesn't slip immediately\")]  \n",
    "thread = {\"configurable\": {\"thread_id\": \"1\"}}\n",
    "  \n",
    "for event in abot.graph.stream({\"messages\": messages}, thread):\n",
    "  for v in event.values():\n",
    "    print(v['messages'])"
   ]
  },
  {
   "cell_type": "code",
   "execution_count": 9,
   "metadata": {},
   "outputs": [
    {
     "name": "stdout",
     "output_type": "stream",
     "text": [
      "---CALL AGENT---\n",
      "[AIMessage(content='', additional_kwargs={'tool_calls': [{'index': 0, 'id': 'call_KAigWsOBp6gbATApBMbXJ2uD', 'function': {'arguments': '{\"query\":\"molecular origins of viscosity\"}', 'name': 'retrieve_blog_posts'}, 'type': 'function'}]}, response_metadata={'finish_reason': 'tool_calls', 'model_name': 'gpt-4-turbo-2024-04-09', 'system_fingerprint': 'fp_f17929ee92'}, id='run-522c06f8-57c4-4bf6-8a83-a3df40a4aaa8-0', tool_calls=[{'name': 'retrieve_blog_posts', 'args': {'query': 'molecular origins of viscosity'}, 'id': 'call_KAigWsOBp6gbATApBMbXJ2uD', 'type': 'tool_call'}])]\n",
      "---CHECK RELEVANCE---\n"
     ]
    },
    {
     "name": "stderr",
     "output_type": "stream",
     "text": [
      "/Users/suras/Documents/ADSK/RAG_Template/.venv/lib/python3.9/site-packages/langchain_openai/chat_models/base.py:1362: UserWarning: Received a Pydantic BaseModel V1 schema. This is not supported by method=\"json_schema\". Please use method=\"function_calling\" or specify schema via JSON Schema or Pydantic V2 BaseModel. Overriding to method=\"function_calling\".\n",
      "  warnings.warn(\n",
      "/Users/suras/Documents/ADSK/RAG_Template/.venv/lib/python3.9/site-packages/langchain_openai/chat_models/base.py:1375: UserWarning: Cannot use method='json_schema' with model gpt-4-0125-preview since it doesn't support OpenAI's Structured Output API. You can see supported models here: https://platform.openai.com/docs/guides/structured-outputs#supported-models. To fix this warning, set `method='function_calling'. Overriding to method='function_calling'.\n",
      "  warnings.warn(\n"
     ]
    },
    {
     "name": "stdout",
     "output_type": "stream",
     "text": [
      "---DECISION: DOCS RELEVANT---\n",
      "[ToolMessage(content='Molecular origins[edit]\\nMomentum transport in gases is mediated by discrete molecular collisions, and in liquids by attractive forces that bind molecules close together.[19] Because of this, the dynamic viscosities of liquids are typically much larger than those of gases. In addition, viscosity tends to increase with temperature in gases and decrease with temperature in liquids.\\n\\nmolecular dynamics computer simulations. Somewhat more progress can be made for a dilute gas, as elementary assumptions about how gas molecules move and interact lead to a basic understanding of the molecular origins of viscosity. More sophisticated treatments can be constructed by systematically coarse-graining the equations of motion of the gas molecules. An example of such a treatment is Chapman–Enskog theory, which derives expressions for the viscosity of a dilute gas from the Boltzmann equation.[17]\\n\\nIn light of these shortcomings, the development of a less ad hoc model is a matter of practical interest. Foregoing simplicity in favor of precision, it is possible to write rigorous expressions for viscosity starting from the fundamental equations of motion for molecules. A classic example of this approach is Irving–Kirkwood theory.[49] On the other hand, such expressions are given as averages over multiparticle correlation functions and are therefore difficult to apply in practice.\\n\\nIn contrast with gases, there is no simple yet accurate picture for the molecular origins of viscosity in liquids.\\nAt the simplest level of description, the relative motion of adjacent layers in a liquid is opposed primarily by attractive molecular forces\\nacting across the layer boundary. In this picture, one (correctly) expects viscosity to decrease with increasing temperature. This is because', name='retrieve_blog_posts', tool_call_id='call_KAigWsOBp6gbATApBMbXJ2uD')]\n",
      "---GENERATE---\n",
      "['Viscosity is the resistance of a fluid to flow, with liquids having higher dynamic viscosities than gases due to attractive forces between molecules. In gases, viscosity tends to increase with temperature, while in liquids it decreases with temperature. Molecular origins of viscosity in liquids are more complex than in gases, with attractive forces between molecules playing a significant role.']\n"
     ]
    }
   ],
   "source": [
    "messages = [HumanMessage(content=\"Tell me about the molecular origins of viscosity\")]  \n",
    "thread = {\"configurable\": {\"thread_id\": \"1\"}}\n",
    "  \n",
    "for event in abot.graph.stream({\"messages\": messages}, thread):\n",
    "  for v in event.values():\n",
    "    print(v['messages'])"
   ]
  },
  {
   "cell_type": "code",
   "execution_count": 10,
   "metadata": {},
   "outputs": [
    {
     "name": "stdout",
     "output_type": "stream",
     "text": [
      "---CALL AGENT---\n",
      "[AIMessage(content='Could you please specify what topic or subject you would like to know more about? This will help me provide you with the most relevant and detailed information.', additional_kwargs={}, response_metadata={'finish_reason': 'stop', 'model_name': 'gpt-4-turbo-2024-04-09', 'system_fingerprint': 'fp_c936bae6c5'}, id='run-e6206054-58c1-44c0-9bcc-7a82a977f95f-0')]\n"
     ]
    }
   ],
   "source": [
    "messages = [HumanMessage(content=\"Tell me more about it\")]  \n",
    "thread = {\"configurable\": {\"thread_id\": \"2\"}}\n",
    "  \n",
    "for event in abot.graph.stream({\"messages\": messages}, thread):\n",
    "  for v in event.values():\n",
    "    print(v['messages'])"
   ]
  },
  {
   "cell_type": "code",
   "execution_count": 12,
   "metadata": {},
   "outputs": [
    {
     "name": "stdout",
     "output_type": "stream",
     "text": [
      "---CALL AGENT---\n",
      "[AIMessage(content='If the bodywash that slipped off your hand is indeed more viscous, the explanation for why it slipped might seem counterintuitive at first, but it can be understood through a few key points about how viscosity works in practical scenarios:\\n\\n1. **Adhesion and Cohesion**: Viscous fluids often have strong cohesive forces, meaning the molecules within the fluid attract each other strongly. However, their adhesion to other materials (like your skin) might not be as strong. If the cohesive forces within the bodywash are stronger than the adhesive forces between the bodywash and your skin, the bodywash will tend to stay together as a mass and slip off when you move your hand.\\n\\n2. **Layering and Shear Thinning**: Some viscous fluids exhibit properties like shear thinning, where the viscosity decreases under stress. When you move your hand, the bodywash might experience shear thinning, becoming less viscous and more prone to slipping off as a result of the movement.\\n\\n3. **Surface Tension and Fluid Dynamics**: The more viscous bodywash might also have a higher surface tension, forming a thicker layer on your hand that is more prone to slipping off as a single mass rather than spreading out and adhering to the skin.\\n\\nIn summary, even though the bodywash is more viscous, its internal properties and how they interact with your skin can lead to it slipping off more easily when moved. This behavior is influenced by the balance of cohesive and adhesive forces, as well as changes in viscosity due to motion (shear thinning).', additional_kwargs={}, response_metadata={'finish_reason': 'stop', 'model_name': 'gpt-4-turbo-2024-04-09', 'system_fingerprint': 'fp_f17929ee92'}, id='run-cb9a757a-a695-4f31-8713-5c9ebfd756df-0')]\n"
     ]
    }
   ],
   "source": [
    "messages = [HumanMessage(content=\"the body wash which slipped is more viscous than the one that didn't slip. why did it slip?\")]  \n",
    "thread = {\"configurable\": {\"thread_id\": \"1\"}}\n",
    "  \n",
    "for event in abot.graph.stream({\"messages\": messages}, thread):\n",
    "  for v in event.values():\n",
    "    print(v['messages'])"
   ]
  }
 ],
 "metadata": {
  "kernelspec": {
   "display_name": ".venv",
   "language": "python",
   "name": "python3"
  },
  "language_info": {
   "codemirror_mode": {
    "name": "ipython",
    "version": 3
   },
   "file_extension": ".py",
   "mimetype": "text/x-python",
   "name": "python",
   "nbconvert_exporter": "python",
   "pygments_lexer": "ipython3",
   "version": "3.9.6"
  }
 },
 "nbformat": 4,
 "nbformat_minor": 2
}
